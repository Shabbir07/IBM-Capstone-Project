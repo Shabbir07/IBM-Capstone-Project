{
 "cells": [
  {
   "cell_type": "markdown",
   "metadata": {},
   "source": [
    "# Applied Data Science Capstone Project (Part-1)"
   ]
  },
  {
   "cell_type": "markdown",
   "metadata": {},
   "source": [
    "## Exploring New York City's Diverse Food Cultures for Tourism Purposes"
   ]
  },
  {
   "cell_type": "markdown",
   "metadata": {},
   "source": [
    "### Shabbir A."
   ]
  },
  {
   "cell_type": "markdown",
   "metadata": {},
   "source": [
    "### Introduction and Problem Description"
   ]
  },
  {
   "cell_type": "markdown",
   "metadata": {},
   "source": [
    "New York City is the most populous city in the United States and the largest metropolitan area in the world by urban landmass (World Urban Areas, 2018). The city has remained a major entry point for immigrants over the years. According to recent statistics, about 36 percent of the city’s population is foreign-born (NYC Mayor’s Office, 2018). The ethnic diversity of New York City is reflected in its diverse cuisine. Almost all the ethnic cuisines are available in the city. John Corry, the New York Times reporter rightly pointed out that “One of the glories of New York is its ethnic food” (Food Reference, 2020).\n",
    "\n",
    "Tourism industry in the city is in boom for over a decade. The city welcomed over 65 million tourists in 2019 which included over 13 million foreign tourists (NYC and Company, 2020). While visiting different sites, tourists often find it difficult to find the restaurants and eateries of their choice in those areas. For instance, in some neighbourhoods, there are numerous outlets of Italian and Caribbean food but there might be only one or two Mexican or Indian restaurants. Moreover, sometimes the tourists are also overwhelmed by the food choices and the decision-making process may be time consuming. \n",
    "\n",
    "In this project, I aim to explore all the boroughs of New York City and locate all the possible food options in specific areas and neighbourhoods of the city. Eateries for different food categories and cuisine belonging to different ethnic groups and countries will be located in the city. \n"
   ]
  },
  {
   "cell_type": "markdown",
   "metadata": {},
   "source": [
    "### Data Description"
   ]
  },
  {
   "cell_type": "markdown",
   "metadata": {},
   "source": [
    "#### Requirements"
   ]
  },
  {
   "cell_type": "markdown",
   "metadata": {},
   "source": [
    "For this project, data related to boroughs and neighbourhood of New York City will be required. To extract data, I will also use the Foursquare API. Latitude and longitude of the locations will be needed mainly. Moreover, for analysis purpose. To create data frames and analyse data, I will use different libraries like pandas, numpy, matplotlib and folium (for mapping). K-mean clustering algorithm will be used for data analysis. "
   ]
  },
  {
   "cell_type": "markdown",
   "metadata": {},
   "source": [
    "#### Data Sources"
   ]
  },
  {
   "cell_type": "markdown",
   "metadata": {},
   "source": [
    "The data for this project will be collected from: \\\n",
    "•\tNew York City dataset: This dataset will provide the addresses of neighbourhoods of the city. A json file will be extracted from here.  https://geo.nyu.edu/catalog/nyu_2451_34572  \\\n",
    "•\tFoursquare API: It is a location data provider and will be used to make API calls to extract data regarding different venues in New York City’s neighbourhoods. To access the API, ‘CLIENT_ID’, ‘CLIENT_SECRET’ and ‘VERSION’ will be defined.\n",
    "https://developer.foursquare.com/docs/ \n",
    "\n",
    "After processing and cleaning the data, it will be analysed through k-means clustering. The data will be segmented into clusters. The clusters will be analysed to determine the most common cuisine(s) in different neighbourhoods of New York City. "
   ]
  },
  {
   "cell_type": "markdown",
   "metadata": {},
   "source": [
    "### Audience/Stakeholders"
   ]
  },
  {
   "cell_type": "markdown",
   "metadata": {},
   "source": [
    "•\tThe audience of this report are mainly local and foreign tourists in New York City who would like to find the eatery of their choice conveniently or explore the diverse food choices available at a particular locality. \\\n",
    "•\tFindings of this report can also be used by the tourism department of the city as well as by tour operators to guide the tourists regarding the locations of the diverse food options. \n"
   ]
  },
  {
   "cell_type": "code",
   "execution_count": null,
   "metadata": {},
   "outputs": [],
   "source": []
  }
 ],
 "metadata": {
  "kernelspec": {
   "display_name": "Python",
   "language": "python",
   "name": "conda-env-python-py"
  },
  "language_info": {
   "codemirror_mode": {
    "name": "ipython",
    "version": 3
   },
   "file_extension": ".py",
   "mimetype": "text/x-python",
   "name": "python",
   "nbconvert_exporter": "python",
   "pygments_lexer": "ipython3",
   "version": "3.6.10"
  }
 },
 "nbformat": 4,
 "nbformat_minor": 4
}
